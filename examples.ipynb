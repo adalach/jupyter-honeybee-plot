{
 "cells": [
  {
   "metadata": {},
   "cell_type": "markdown",
   "source": [
    "# Visualizing Honeybee models in Jupyter notebooks\n",
    "\n",
    "This notebook demonstrates the visualization functions `plot_honeybee_model` and `plot_honeybee_models` for inline rendering Honeybee models directly within a Jupyter environment.\n",
    "\n",
    "**Inputs**\n",
    "\n",
    "* Official Honeybee-schema sample models fetched dynamically from GitHub\n",
    "* Core Honeybee libraries (`honeybee.model.Model`) for geometry parsing and data handling\n"
   ],
   "id": "b1b8e66881632146"
  },
  {
   "metadata": {},
   "cell_type": "markdown",
   "source": [
    "## Load remote Honeybee-schema sample models\n",
    "\n",
    "This cell dynamically fetches all `.hbjson` models from the official Honeybee-schema GitHub repository and loads them into memory as Honeybee `Model` objects.\n"
   ],
   "id": "58dfd86f990c206f"
  },
  {
   "metadata": {
    "ExecuteTime": {
     "end_time": "2025-10-30T15:52:28.404950Z",
     "start_time": "2025-10-30T15:52:24.113957Z"
    }
   },
   "cell_type": "code",
   "source": [
    "import requests\n",
    "import json\n",
    "import os, logging, warnings, traceback\n",
    "from honeybee.model import Model\n",
    "from contextlib import redirect_stdout, redirect_stderr\n",
    "\n",
    "\n",
    "# Honeybee-schema sample/model directory URL\n",
    "GITHUB_API_URL = \"https://api.github.com/repos/ladybug-tools/honeybee-schema/contents/samples/model\"\n",
    "RAW_BASE_URL = \"https://raw.githubusercontent.com/ladybug-tools/honeybee-schema/master/samples/model/\"\n",
    "\n",
    "def list_hbjson_files():\n",
    "    \"\"\"List all .hbjson files in the honeybee-schema sample/model directory via GitHub API.\"\"\"\n",
    "    resp = requests.get(GITHUB_API_URL)\n",
    "    resp.raise_for_status()\n",
    "    data = resp.json()\n",
    "    return [item[\"name\"] for item in data if item[\"name\"].endswith(\".hbjson\")]\n",
    "\n",
    "def fetch_hbjson_dict(filename):\n",
    "    \"\"\"Fetch and parse a Honeybee-schema sample model into a Python dict.\"\"\"\n",
    "    url = RAW_BASE_URL + filename\n",
    "    resp = requests.get(url)\n",
    "    resp.raise_for_status()\n",
    "    return json.loads(resp.text)\n",
    "\n",
    "def load_remote_honeybee_samples():\n",
    "    \"\"\"Fetch all Honeybee-schema sample models and load them into Honeybee Model objects.\"\"\"\n",
    "    filenames = list_hbjson_files()\n",
    "    print(f\"Found {len(filenames)} remote HBJSON files in the honeybee-schema samples directory.\")\n",
    "\n",
    "    sample_models, invalid_models = [], []\n",
    "\n",
    "    for fname in filenames:\n",
    "        try:\n",
    "            hbjson_dict = fetch_hbjson_dict(fname)\n",
    "\n",
    "            # Suppress Honeybee logging/warnings\n",
    "            with open(os.devnull, \"w\") as devnull, redirect_stdout(devnull), redirect_stderr(devnull):\n",
    "                prev_disable = logging.root.manager.disable\n",
    "                logging.disable(logging.CRITICAL)\n",
    "                try:\n",
    "                    with warnings.catch_warnings():\n",
    "                        warnings.simplefilter(\"ignore\")\n",
    "                        model = Model.from_dict(hbjson_dict)\n",
    "                finally:\n",
    "                    logging.disable(prev_disable)\n",
    "\n",
    "        except Exception as e:\n",
    "            invalid_models.append({\n",
    "                \"filename\": fname,\n",
    "                \"error\": str(e),\n",
    "                \"tb\": traceback.format_exc()\n",
    "            })\n",
    "            continue\n",
    "        else:\n",
    "            sample_models.append(model)\n",
    "\n",
    "    print(f\"Loaded {len(sample_models)} valid models, skipped {len(invalid_models)} invalid files.\")\n",
    "    if invalid_models:\n",
    "        print(\"Skipped files (short errors):\")\n",
    "        for it in invalid_models:\n",
    "            print(f\" - {it['filename']}\")\n",
    "            print(f\"     {it['error']}\")\n",
    "\n",
    "    return sample_models\n",
    "\n",
    "# Example usage:\n",
    "sample_models = load_remote_honeybee_samples()\n",
    "print(f\"Successfully fetched {len(sample_models)} Honeybee models.\")\n"
   ],
   "id": "3cf70315a01afa16",
   "outputs": [
    {
     "name": "stdout",
     "output_type": "stream",
     "text": [
      "Found 22 remote HBJSON files in the honeybee-schema samples directory.\n",
      "Loaded 22 valid models, skipped 0 invalid files.\n",
      "Successfully fetched 22 Honeybee models.\n"
     ]
    }
   ],
   "execution_count": 1
  },
  {
   "metadata": {},
   "cell_type": "markdown",
   "source": "## plot_honeybee_model",
   "id": "a01d96fef48c9007"
  },
  {
   "metadata": {},
   "cell_type": "markdown",
   "source": [
    "### Plot first Honeybee model with default settings\n",
    "\n",
    "This cell demonstrates the basic usage of the `plot_honeybee_model` function using one of the sample Honeybee models fetched from the Honeybee-schema repository. The function visualizes the model’s geometry directly inside the Jupyter notebook, displaying rooms, faces, apertures, and shading surfaces in 3D.\n"
   ],
   "id": "777707a2b0b3fc57"
  },
  {
   "metadata": {
    "ExecuteTime": {
     "end_time": "2025-10-30T15:52:29.250747Z",
     "start_time": "2025-10-30T15:52:28.408247Z"
    }
   },
   "cell_type": "code",
   "source": [
    "from plot_honeybee_model import plot_honeybee_model\n",
    "\n",
    "example_model = sample_models[19]\n",
    "\n",
    "plot_honeybee_model(example_model)\n"
   ],
   "id": "b05a7602b77a8f4",
   "outputs": [
    {
     "data": {
      "application/vnd.plotly.v1+json": {
       "data": [
        {
         "color": "#808080",
         "flatshading": true,
         "hoverinfo": "skip",
         "i": [
          3,
          1,
          5,
          2
         ],
         "j": [
          0,
          2,
          3,
          4
         ],
         "k": [
          1,
          3,
          2,
          5
         ],
         "lighting": {
          "ambient": 0.6,
          "diffuse": 0.4
         },
         "name": "exterior_floor",
         "opacity": 0.5,
         "showlegend": false,
         "x": [
          0.0,
          0.0,
          5.0,
          5.0,
          10.0,
          10.0
         ],
         "y": [
          0.0,
          10.0,
          10.0,
          0.0,
          10.0,
          0.0
         ],
         "z": [
          0.0,
          0.0,
          0.0,
          0.0,
          0.0,
          0.0
         ],
         "type": "mesh3d"
        },
        {
         "color": "#801414",
         "flatshading": true,
         "hoverinfo": "skip",
         "i": [
          3,
          1,
          0,
          5
         ],
         "j": [
          0,
          2,
          4,
          1
         ],
         "k": [
          1,
          3,
          5,
          0
         ],
         "lighting": {
          "ambient": 0.6,
          "diffuse": 0.4
         },
         "name": "roof",
         "opacity": 0.5,
         "showlegend": false,
         "x": [
          5.0,
          5.0,
          0.0,
          0.0,
          10.0,
          10.0
         ],
         "y": [
          0.0,
          10.0,
          10.0,
          0.0,
          0.0,
          10.0
         ],
         "z": [
          3.0,
          3.0,
          3.0,
          3.0,
          3.0,
          3.0
         ],
         "type": "mesh3d"
        },
        {
         "color": "#e6b43c",
         "flatshading": true,
         "hoverinfo": "skip",
         "i": [
          3,
          1,
          7,
          5,
          4,
          2,
          0,
          9,
          8,
          11,
          10,
          6
         ],
         "j": [
          0,
          2,
          4,
          6,
          3,
          5,
          8,
          1,
          10,
          9,
          7,
          11
         ],
         "k": [
          1,
          3,
          5,
          7,
          2,
          4,
          9,
          0,
          11,
          8,
          6,
          10
         ],
         "lighting": {
          "ambient": 0.6,
          "diffuse": 0.4
         },
         "name": "exterior_wall",
         "opacity": 0.5,
         "showlegend": false,
         "x": [
          5.0,
          5.0,
          0.0,
          0.0,
          0.0,
          0.0,
          5.0,
          5.0,
          10.0,
          10.0,
          10.0,
          10.0
         ],
         "y": [
          10.0,
          10.0,
          10.0,
          10.0,
          0.0,
          0.0,
          0.0,
          0.0,
          10.0,
          10.0,
          0.0,
          0.0
         ],
         "z": [
          3.0,
          0.0,
          0.0,
          3.0,
          3.0,
          0.0,
          0.0,
          3.0,
          3.0,
          0.0,
          3.0,
          0.0
         ],
         "type": "mesh3d"
        },
        {
         "color": "#e6d796",
         "flatshading": true,
         "hoverinfo": "skip",
         "i": [
          3,
          1,
          0,
          2
         ],
         "j": [
          0,
          2,
          3,
          1
         ],
         "k": [
          1,
          3,
          2,
          0
         ],
         "lighting": {
          "ambient": 0.6,
          "diffuse": 0.4
         },
         "name": "interior_wall",
         "opacity": 0.5,
         "showlegend": false,
         "x": [
          5.0,
          5.0,
          5.0,
          5.0
         ],
         "y": [
          0.0,
          0.0,
          10.0,
          10.0
         ],
         "z": [
          3.0,
          0.0,
          0.0,
          3.0
         ],
         "type": "mesh3d"
        },
        {
         "color": "#40b4ff",
         "flatshading": true,
         "hoverinfo": "skip",
         "i": [
          6,
          2,
          1,
          1,
          0,
          0,
          2,
          2,
          4,
          4,
          6,
          6,
          14,
          10,
          9,
          9,
          8,
          8,
          10,
          10,
          12,
          12,
          14,
          14
         ],
         "j": [
          0,
          4,
          5,
          7,
          2,
          3,
          4,
          5,
          6,
          7,
          0,
          1,
          8,
          12,
          13,
          15,
          10,
          11,
          12,
          13,
          14,
          15,
          8,
          9
         ],
         "k": [
          2,
          6,
          3,
          5,
          3,
          1,
          5,
          3,
          7,
          5,
          1,
          7,
          10,
          14,
          11,
          13,
          11,
          9,
          13,
          11,
          15,
          13,
          9,
          15
         ],
         "lighting": {
          "ambient": 0.6,
          "diffuse": 0.4
         },
         "name": "aperture",
         "opacity": 0.5,
         "showlegend": false,
         "x": [
          4.5,
          4.5,
          4.5,
          4.5,
          2.5,
          2.5,
          2.5,
          2.5,
          0.732233,
          0.732233,
          0.732233,
          0.732233,
          4.267767,
          4.267767,
          4.267767,
          4.267767
         ],
         "y": [
          10.02,
          9.98,
          10.02,
          9.98,
          10.02,
          9.98,
          10.02,
          9.98,
          -0.02,
          0.02,
          -0.02,
          0.02,
          -0.02,
          0.02,
          -0.02,
          0.02
         ],
         "z": [
          2.5,
          2.5,
          1.0,
          1.0,
          1.0,
          1.0,
          2.5,
          2.5,
          2.56066,
          2.56066,
          0.43934,
          0.43934,
          0.43934,
          0.43934,
          2.56066,
          2.56066
         ],
         "type": "mesh3d"
        },
        {
         "color": "#40b4ff",
         "flatshading": true,
         "hoverinfo": "skip",
         "i": [
          6,
          2,
          1,
          1,
          0,
          0,
          2,
          2,
          4,
          4,
          6,
          6,
          1,
          5,
          6,
          6,
          7,
          7,
          5,
          5,
          3,
          3,
          1,
          1
         ],
         "j": [
          0,
          4,
          5,
          7,
          2,
          3,
          4,
          5,
          6,
          7,
          0,
          1,
          7,
          3,
          2,
          0,
          5,
          4,
          3,
          2,
          1,
          0,
          7,
          6
         ],
         "k": [
          2,
          6,
          3,
          5,
          3,
          1,
          5,
          3,
          7,
          5,
          1,
          7,
          5,
          1,
          4,
          2,
          4,
          6,
          2,
          4,
          0,
          2,
          6,
          0
         ],
         "lighting": {
          "ambient": 0.6,
          "diffuse": 0.4
         },
         "name": "interior_aperture",
         "opacity": 0.5,
         "showlegend": false,
         "x": [
          5.02,
          4.98,
          5.02,
          4.98,
          5.02,
          4.98,
          5.02,
          4.98
         ],
         "y": [
          3.418861,
          3.418861,
          3.418861,
          3.418861,
          6.581139,
          6.581139,
          6.581139,
          6.581139
         ],
         "z": [
          1.974342,
          1.974342,
          1.025658,
          1.025658,
          1.025658,
          1.025658,
          1.974342,
          1.974342
         ],
         "type": "mesh3d"
        },
        {
         "color": "#a09664",
         "flatshading": true,
         "hoverinfo": "skip",
         "i": [
          6,
          2,
          1,
          1,
          0,
          0,
          2,
          2,
          4,
          4,
          6,
          6
         ],
         "j": [
          0,
          4,
          5,
          7,
          2,
          3,
          4,
          5,
          6,
          7,
          0,
          1
         ],
         "k": [
          2,
          6,
          3,
          5,
          3,
          1,
          5,
          3,
          7,
          5,
          1,
          7
         ],
         "lighting": {
          "ambient": 0.6,
          "diffuse": 0.4
         },
         "name": "door",
         "opacity": 0.5,
         "showlegend": false,
         "x": [
          2.0,
          2.0,
          2.0,
          2.0,
          1.0,
          1.0,
          1.0,
          1.0
         ],
         "y": [
          10.02,
          9.98,
          10.02,
          9.98,
          10.02,
          9.98,
          10.02,
          9.98
         ],
         "z": [
          2.5,
          2.5,
          0.1,
          0.1,
          0.1,
          0.1,
          2.5,
          2.5
         ],
         "type": "mesh3d"
        },
        {
         "color": "#784bbe",
         "flatshading": true,
         "hoverinfo": "skip",
         "i": [
          3,
          1,
          7,
          5,
          13,
          13,
          13,
          11
         ],
         "j": [
          0,
          2,
          4,
          6,
          8,
          9,
          10,
          12
         ],
         "k": [
          1,
          3,
          5,
          7,
          9,
          10,
          11,
          13
         ],
         "lighting": {
          "ambient": 0.6,
          "diffuse": 0.4
         },
         "name": "outdoor_shade",
         "opacity": 0.5,
         "showlegend": false,
         "x": [
          0.0,
          5.0,
          5.0,
          0.0,
          0.0,
          10.0,
          10.0,
          0.0,
          3.267949,
          5.0,
          6.732051,
          6.732051,
          5.0,
          3.267949
         ],
         "y": [
          10.0,
          10.0,
          10.25,
          10.25,
          -10.0,
          -10.0,
          0.0,
          0.0,
          -4.0,
          -5.0,
          -4.0,
          -2.0,
          -1.0,
          -2.0
         ],
         "z": [
          3.0,
          3.0,
          3.0,
          3.0,
          0.0,
          0.0,
          0.0,
          0.0,
          4.0,
          4.0,
          4.0,
          4.0,
          4.0,
          4.0
         ],
         "type": "mesh3d"
        }
       ],
       "layout": {
        "template": {
         "data": {
          "histogram2dcontour": [
           {
            "type": "histogram2dcontour",
            "colorbar": {
             "outlinewidth": 0,
             "ticks": ""
            },
            "colorscale": [
             [
              0.0,
              "#0d0887"
             ],
             [
              0.1111111111111111,
              "#46039f"
             ],
             [
              0.2222222222222222,
              "#7201a8"
             ],
             [
              0.3333333333333333,
              "#9c179e"
             ],
             [
              0.4444444444444444,
              "#bd3786"
             ],
             [
              0.5555555555555556,
              "#d8576b"
             ],
             [
              0.6666666666666666,
              "#ed7953"
             ],
             [
              0.7777777777777778,
              "#fb9f3a"
             ],
             [
              0.8888888888888888,
              "#fdca26"
             ],
             [
              1.0,
              "#f0f921"
             ]
            ]
           }
          ],
          "choropleth": [
           {
            "type": "choropleth",
            "colorbar": {
             "outlinewidth": 0,
             "ticks": ""
            }
           }
          ],
          "histogram2d": [
           {
            "type": "histogram2d",
            "colorbar": {
             "outlinewidth": 0,
             "ticks": ""
            },
            "colorscale": [
             [
              0.0,
              "#0d0887"
             ],
             [
              0.1111111111111111,
              "#46039f"
             ],
             [
              0.2222222222222222,
              "#7201a8"
             ],
             [
              0.3333333333333333,
              "#9c179e"
             ],
             [
              0.4444444444444444,
              "#bd3786"
             ],
             [
              0.5555555555555556,
              "#d8576b"
             ],
             [
              0.6666666666666666,
              "#ed7953"
             ],
             [
              0.7777777777777778,
              "#fb9f3a"
             ],
             [
              0.8888888888888888,
              "#fdca26"
             ],
             [
              1.0,
              "#f0f921"
             ]
            ]
           }
          ],
          "heatmap": [
           {
            "type": "heatmap",
            "colorbar": {
             "outlinewidth": 0,
             "ticks": ""
            },
            "colorscale": [
             [
              0.0,
              "#0d0887"
             ],
             [
              0.1111111111111111,
              "#46039f"
             ],
             [
              0.2222222222222222,
              "#7201a8"
             ],
             [
              0.3333333333333333,
              "#9c179e"
             ],
             [
              0.4444444444444444,
              "#bd3786"
             ],
             [
              0.5555555555555556,
              "#d8576b"
             ],
             [
              0.6666666666666666,
              "#ed7953"
             ],
             [
              0.7777777777777778,
              "#fb9f3a"
             ],
             [
              0.8888888888888888,
              "#fdca26"
             ],
             [
              1.0,
              "#f0f921"
             ]
            ]
           }
          ],
          "contourcarpet": [
           {
            "type": "contourcarpet",
            "colorbar": {
             "outlinewidth": 0,
             "ticks": ""
            }
           }
          ],
          "contour": [
           {
            "type": "contour",
            "colorbar": {
             "outlinewidth": 0,
             "ticks": ""
            },
            "colorscale": [
             [
              0.0,
              "#0d0887"
             ],
             [
              0.1111111111111111,
              "#46039f"
             ],
             [
              0.2222222222222222,
              "#7201a8"
             ],
             [
              0.3333333333333333,
              "#9c179e"
             ],
             [
              0.4444444444444444,
              "#bd3786"
             ],
             [
              0.5555555555555556,
              "#d8576b"
             ],
             [
              0.6666666666666666,
              "#ed7953"
             ],
             [
              0.7777777777777778,
              "#fb9f3a"
             ],
             [
              0.8888888888888888,
              "#fdca26"
             ],
             [
              1.0,
              "#f0f921"
             ]
            ]
           }
          ],
          "surface": [
           {
            "type": "surface",
            "colorbar": {
             "outlinewidth": 0,
             "ticks": ""
            },
            "colorscale": [
             [
              0.0,
              "#0d0887"
             ],
             [
              0.1111111111111111,
              "#46039f"
             ],
             [
              0.2222222222222222,
              "#7201a8"
             ],
             [
              0.3333333333333333,
              "#9c179e"
             ],
             [
              0.4444444444444444,
              "#bd3786"
             ],
             [
              0.5555555555555556,
              "#d8576b"
             ],
             [
              0.6666666666666666,
              "#ed7953"
             ],
             [
              0.7777777777777778,
              "#fb9f3a"
             ],
             [
              0.8888888888888888,
              "#fdca26"
             ],
             [
              1.0,
              "#f0f921"
             ]
            ]
           }
          ],
          "mesh3d": [
           {
            "type": "mesh3d",
            "colorbar": {
             "outlinewidth": 0,
             "ticks": ""
            }
           }
          ],
          "scatter": [
           {
            "fillpattern": {
             "fillmode": "overlay",
             "size": 10,
             "solidity": 0.2
            },
            "type": "scatter"
           }
          ],
          "parcoords": [
           {
            "type": "parcoords",
            "line": {
             "colorbar": {
              "outlinewidth": 0,
              "ticks": ""
             }
            }
           }
          ],
          "scatterpolargl": [
           {
            "type": "scatterpolargl",
            "marker": {
             "colorbar": {
              "outlinewidth": 0,
              "ticks": ""
             }
            }
           }
          ],
          "bar": [
           {
            "error_x": {
             "color": "#2a3f5f"
            },
            "error_y": {
             "color": "#2a3f5f"
            },
            "marker": {
             "line": {
              "color": "#E5ECF6",
              "width": 0.5
             },
             "pattern": {
              "fillmode": "overlay",
              "size": 10,
              "solidity": 0.2
             }
            },
            "type": "bar"
           }
          ],
          "scattergeo": [
           {
            "type": "scattergeo",
            "marker": {
             "colorbar": {
              "outlinewidth": 0,
              "ticks": ""
             }
            }
           }
          ],
          "scatterpolar": [
           {
            "type": "scatterpolar",
            "marker": {
             "colorbar": {
              "outlinewidth": 0,
              "ticks": ""
             }
            }
           }
          ],
          "histogram": [
           {
            "marker": {
             "pattern": {
              "fillmode": "overlay",
              "size": 10,
              "solidity": 0.2
             }
            },
            "type": "histogram"
           }
          ],
          "scattergl": [
           {
            "type": "scattergl",
            "marker": {
             "colorbar": {
              "outlinewidth": 0,
              "ticks": ""
             }
            }
           }
          ],
          "scatter3d": [
           {
            "type": "scatter3d",
            "line": {
             "colorbar": {
              "outlinewidth": 0,
              "ticks": ""
             }
            },
            "marker": {
             "colorbar": {
              "outlinewidth": 0,
              "ticks": ""
             }
            }
           }
          ],
          "scattermap": [
           {
            "type": "scattermap",
            "marker": {
             "colorbar": {
              "outlinewidth": 0,
              "ticks": ""
             }
            }
           }
          ],
          "scattermapbox": [
           {
            "type": "scattermapbox",
            "marker": {
             "colorbar": {
              "outlinewidth": 0,
              "ticks": ""
             }
            }
           }
          ],
          "scatterternary": [
           {
            "type": "scatterternary",
            "marker": {
             "colorbar": {
              "outlinewidth": 0,
              "ticks": ""
             }
            }
           }
          ],
          "scattercarpet": [
           {
            "type": "scattercarpet",
            "marker": {
             "colorbar": {
              "outlinewidth": 0,
              "ticks": ""
             }
            }
           }
          ],
          "carpet": [
           {
            "aaxis": {
             "endlinecolor": "#2a3f5f",
             "gridcolor": "white",
             "linecolor": "white",
             "minorgridcolor": "white",
             "startlinecolor": "#2a3f5f"
            },
            "baxis": {
             "endlinecolor": "#2a3f5f",
             "gridcolor": "white",
             "linecolor": "white",
             "minorgridcolor": "white",
             "startlinecolor": "#2a3f5f"
            },
            "type": "carpet"
           }
          ],
          "table": [
           {
            "cells": {
             "fill": {
              "color": "#EBF0F8"
             },
             "line": {
              "color": "white"
             }
            },
            "header": {
             "fill": {
              "color": "#C8D4E3"
             },
             "line": {
              "color": "white"
             }
            },
            "type": "table"
           }
          ],
          "barpolar": [
           {
            "marker": {
             "line": {
              "color": "#E5ECF6",
              "width": 0.5
             },
             "pattern": {
              "fillmode": "overlay",
              "size": 10,
              "solidity": 0.2
             }
            },
            "type": "barpolar"
           }
          ],
          "pie": [
           {
            "automargin": true,
            "type": "pie"
           }
          ]
         },
         "layout": {
          "autotypenumbers": "strict",
          "colorway": [
           "#636efa",
           "#EF553B",
           "#00cc96",
           "#ab63fa",
           "#FFA15A",
           "#19d3f3",
           "#FF6692",
           "#B6E880",
           "#FF97FF",
           "#FECB52"
          ],
          "font": {
           "color": "#2a3f5f"
          },
          "hovermode": "closest",
          "hoverlabel": {
           "align": "left"
          },
          "paper_bgcolor": "white",
          "plot_bgcolor": "#E5ECF6",
          "polar": {
           "bgcolor": "#E5ECF6",
           "angularaxis": {
            "gridcolor": "white",
            "linecolor": "white",
            "ticks": ""
           },
           "radialaxis": {
            "gridcolor": "white",
            "linecolor": "white",
            "ticks": ""
           }
          },
          "ternary": {
           "bgcolor": "#E5ECF6",
           "aaxis": {
            "gridcolor": "white",
            "linecolor": "white",
            "ticks": ""
           },
           "baxis": {
            "gridcolor": "white",
            "linecolor": "white",
            "ticks": ""
           },
           "caxis": {
            "gridcolor": "white",
            "linecolor": "white",
            "ticks": ""
           }
          },
          "coloraxis": {
           "colorbar": {
            "outlinewidth": 0,
            "ticks": ""
           }
          },
          "colorscale": {
           "sequential": [
            [
             0.0,
             "#0d0887"
            ],
            [
             0.1111111111111111,
             "#46039f"
            ],
            [
             0.2222222222222222,
             "#7201a8"
            ],
            [
             0.3333333333333333,
             "#9c179e"
            ],
            [
             0.4444444444444444,
             "#bd3786"
            ],
            [
             0.5555555555555556,
             "#d8576b"
            ],
            [
             0.6666666666666666,
             "#ed7953"
            ],
            [
             0.7777777777777778,
             "#fb9f3a"
            ],
            [
             0.8888888888888888,
             "#fdca26"
            ],
            [
             1.0,
             "#f0f921"
            ]
           ],
           "sequentialminus": [
            [
             0.0,
             "#0d0887"
            ],
            [
             0.1111111111111111,
             "#46039f"
            ],
            [
             0.2222222222222222,
             "#7201a8"
            ],
            [
             0.3333333333333333,
             "#9c179e"
            ],
            [
             0.4444444444444444,
             "#bd3786"
            ],
            [
             0.5555555555555556,
             "#d8576b"
            ],
            [
             0.6666666666666666,
             "#ed7953"
            ],
            [
             0.7777777777777778,
             "#fb9f3a"
            ],
            [
             0.8888888888888888,
             "#fdca26"
            ],
            [
             1.0,
             "#f0f921"
            ]
           ],
           "diverging": [
            [
             0,
             "#8e0152"
            ],
            [
             0.1,
             "#c51b7d"
            ],
            [
             0.2,
             "#de77ae"
            ],
            [
             0.3,
             "#f1b6da"
            ],
            [
             0.4,
             "#fde0ef"
            ],
            [
             0.5,
             "#f7f7f7"
            ],
            [
             0.6,
             "#e6f5d0"
            ],
            [
             0.7,
             "#b8e186"
            ],
            [
             0.8,
             "#7fbc41"
            ],
            [
             0.9,
             "#4d9221"
            ],
            [
             1,
             "#276419"
            ]
           ]
          },
          "xaxis": {
           "gridcolor": "white",
           "linecolor": "white",
           "ticks": "",
           "title": {
            "standoff": 15
           },
           "zerolinecolor": "white",
           "automargin": true,
           "zerolinewidth": 2
          },
          "yaxis": {
           "gridcolor": "white",
           "linecolor": "white",
           "ticks": "",
           "title": {
            "standoff": 15
           },
           "zerolinecolor": "white",
           "automargin": true,
           "zerolinewidth": 2
          },
          "scene": {
           "xaxis": {
            "backgroundcolor": "#E5ECF6",
            "gridcolor": "white",
            "linecolor": "white",
            "showbackground": true,
            "ticks": "",
            "zerolinecolor": "white",
            "gridwidth": 2
           },
           "yaxis": {
            "backgroundcolor": "#E5ECF6",
            "gridcolor": "white",
            "linecolor": "white",
            "showbackground": true,
            "ticks": "",
            "zerolinecolor": "white",
            "gridwidth": 2
           },
           "zaxis": {
            "backgroundcolor": "#E5ECF6",
            "gridcolor": "white",
            "linecolor": "white",
            "showbackground": true,
            "ticks": "",
            "zerolinecolor": "white",
            "gridwidth": 2
           }
          },
          "shapedefaults": {
           "line": {
            "color": "#2a3f5f"
           }
          },
          "annotationdefaults": {
           "arrowcolor": "#2a3f5f",
           "arrowhead": 0,
           "arrowwidth": 1
          },
          "geo": {
           "bgcolor": "white",
           "landcolor": "#E5ECF6",
           "subunitcolor": "white",
           "showland": true,
           "showlakes": true,
           "lakecolor": "white"
          },
          "title": {
           "x": 0.05
          },
          "mapbox": {
           "style": "light"
          }
         }
        },
        "margin": {
         "l": 0,
         "r": 0,
         "t": 30,
         "b": 0
        },
        "scene": {
         "xaxis": {
          "visible": false
         },
         "yaxis": {
          "visible": false
         },
         "zaxis": {
          "visible": false
         },
         "aspectmode": "data"
        },
        "title": {
         "text": "Tiny_House"
        },
        "width": 640,
        "height": 420,
        "paper_bgcolor": "white",
        "plot_bgcolor": "white",
        "showlegend": false
       },
       "config": {
        "scrollZoom": true,
        "displaylogo": false,
        "plotlyServerURL": "https://plot.ly"
       }
      }
     },
     "metadata": {},
     "output_type": "display_data",
     "jetTransient": {
      "display_id": null
     }
    }
   ],
   "execution_count": 2
  },
  {
   "metadata": {},
   "cell_type": "markdown",
   "source": [
    "### Plot multiple Honeybee models with customized visualization\n",
    "\n",
    "This cell illustrates how to plot several Honeybee models using the `plot_honeybee_model` function with customized visualization parameters. Instead of relying on defaults, specific surface types and visual properties are defined to emphasize interior and exterior structure.\n",
    "\n",
    "**Inputs**\n",
    "\n",
    "* `some_sample_models`: a subset of two Honeybee models selected from the fetched samples (`sample_models[8:10]`)\n",
    "* Visualization options:\n",
    "\n",
    "  * `title=None`: disables automatic plot titles\n",
    "  * `show_wireframe=True`: overlays the geometric wireframe for structural clarity\n",
    "  * `surface_opacity=0.5`: sets translucent surfaces for improved depth perception\n",
    "  * `show_legend=True`: displays color mapping of surface types\n",
    "  * `include_types=('ceiling', 'interior_floor', 'exterior_wall', 'interior_wall', 'aperture', 'air_wall')`: restricts the visualization to key building components\n",
    "\n",
    "For more options see the python file `plot_honeybee_model.py` in the same directory.\n"
   ],
   "id": "e1d737cf5331ac0b"
  },
  {
   "metadata": {
    "ExecuteTime": {
     "end_time": "2025-10-30T15:52:29.327273Z",
     "start_time": "2025-10-30T15:52:29.307107Z"
    }
   },
   "cell_type": "code",
   "source": [
    "some_sample_models = sample_models[8:10]\n",
    "for i in some_sample_models:\n",
    "    plot_honeybee_model(i, title=None, show_wireframe=True, surface_opacity=1, show_legend=True, include_types=('ceiling', 'interior_floor', 'exterior_wall', 'interior_wall', 'aperture', 'air_wall'))"
   ],
   "id": "28b5f0a01b6f97da",
   "outputs": [
    {
     "data": {
      "application/vnd.plotly.v1+json": {
       "data": [
        {
         "color": "#e6b43c",
         "flatshading": true,
         "hoverinfo": "skip",
         "i": [
          3,
          1,
          0,
          5,
          4,
          7,
          6,
          2
         ],
         "j": [
          0,
          2,
          4,
          1,
          6,
          5,
          3,
          7
         ],
         "k": [
          1,
          3,
          5,
          0,
          7,
          4,
          2,
          6
         ],
         "lighting": {
          "ambient": 0.6,
          "diffuse": 0.4
         },
         "name": "exterior_wall",
         "opacity": 1.0,
         "showlegend": true,
         "x": [
          5.0,
          5.0,
          0.0,
          0.0,
          5.0,
          5.0,
          0.0,
          0.0
         ],
         "y": [
          10.0,
          10.0,
          10.0,
          10.0,
          0.0,
          0.0,
          0.0,
          0.0
         ],
         "z": [
          3.0,
          0.0,
          0.0,
          3.0,
          3.0,
          0.0,
          3.0,
          0.0
         ],
         "type": "mesh3d"
        },
        {
         "color": "#40b4ff",
         "flatshading": true,
         "hoverinfo": "skip",
         "i": [
          6,
          2,
          1,
          1,
          0,
          0,
          2,
          2,
          4,
          4,
          6,
          6,
          14,
          10,
          9,
          9,
          8,
          8,
          10,
          10,
          12,
          12,
          14,
          14
         ],
         "j": [
          0,
          4,
          5,
          7,
          2,
          3,
          4,
          5,
          6,
          7,
          0,
          1,
          8,
          12,
          13,
          15,
          10,
          11,
          12,
          13,
          14,
          15,
          8,
          9
         ],
         "k": [
          2,
          6,
          3,
          5,
          3,
          1,
          5,
          3,
          7,
          5,
          1,
          7,
          10,
          14,
          11,
          13,
          11,
          9,
          13,
          11,
          15,
          13,
          9,
          15
         ],
         "lighting": {
          "ambient": 0.6,
          "diffuse": 0.4
         },
         "name": "aperture",
         "opacity": 1.0,
         "showlegend": true,
         "x": [
          4.5,
          4.5,
          4.5,
          4.5,
          2.5,
          2.5,
          2.5,
          2.5,
          0.918861,
          0.918861,
          0.918861,
          0.918861,
          4.081139,
          4.081139,
          4.081139,
          4.081139
         ],
         "y": [
          10.02,
          9.98,
          10.02,
          9.98,
          10.02,
          9.98,
          10.02,
          9.98,
          -0.02,
          0.02,
          -0.02,
          0.02,
          -0.02,
          0.02,
          -0.02,
          0.02
         ],
         "z": [
          2.5,
          2.5,
          1.0,
          1.0,
          1.0,
          1.0,
          2.5,
          2.5,
          2.448683,
          2.448683,
          0.551317,
          0.551317,
          0.551317,
          0.551317,
          2.448683,
          2.448683
         ],
         "type": "mesh3d"
        },
        {
         "hoverinfo": "skip",
         "line": {
          "color": "black",
          "width": 2
         },
         "mode": "lines",
         "name": "wireframe",
         "showlegend": true,
         "x": [
          5.0,
          5.0,
          null,
          5.0,
          0.0,
          null,
          0.0,
          0.0,
          null,
          0.0,
          5.0,
          null,
          5.0,
          5.0,
          null,
          5.0,
          5.0,
          null,
          5.0,
          5.0,
          null,
          5.0,
          5.0,
          null,
          0.0,
          0.0,
          null,
          0.0,
          5.0,
          null,
          5.0,
          5.0,
          null,
          5.0,
          0.0,
          null,
          0.0,
          0.0,
          null,
          0.0,
          0.0,
          null,
          0.0,
          0.0,
          null,
          0.0,
          0.0,
          null
         ],
         "y": [
          10.0,
          10.0,
          null,
          10.0,
          10.0,
          null,
          10.0,
          10.0,
          null,
          10.0,
          10.0,
          null,
          0.0,
          0.0,
          null,
          0.0,
          10.0,
          null,
          10.0,
          10.0,
          null,
          10.0,
          0.0,
          null,
          0.0,
          0.0,
          null,
          0.0,
          0.0,
          null,
          0.0,
          0.0,
          null,
          0.0,
          0.0,
          null,
          10.0,
          10.0,
          null,
          10.0,
          0.0,
          null,
          0.0,
          0.0,
          null,
          0.0,
          10.0,
          null
         ],
         "z": [
          3.0,
          0.0,
          null,
          0.0,
          0.0,
          null,
          0.0,
          3.0,
          null,
          3.0,
          3.0,
          null,
          3.0,
          0.0,
          null,
          0.0,
          0.0,
          null,
          0.0,
          3.0,
          null,
          3.0,
          3.0,
          null,
          3.0,
          0.0,
          null,
          0.0,
          0.0,
          null,
          0.0,
          3.0,
          null,
          3.0,
          3.0,
          null,
          3.0,
          0.0,
          null,
          0.0,
          0.0,
          null,
          0.0,
          3.0,
          null,
          3.0,
          3.0,
          null
         ],
         "type": "scatter3d"
        }
       ],
       "layout": {
        "template": {
         "data": {
          "histogram2dcontour": [
           {
            "type": "histogram2dcontour",
            "colorbar": {
             "outlinewidth": 0,
             "ticks": ""
            },
            "colorscale": [
             [
              0.0,
              "#0d0887"
             ],
             [
              0.1111111111111111,
              "#46039f"
             ],
             [
              0.2222222222222222,
              "#7201a8"
             ],
             [
              0.3333333333333333,
              "#9c179e"
             ],
             [
              0.4444444444444444,
              "#bd3786"
             ],
             [
              0.5555555555555556,
              "#d8576b"
             ],
             [
              0.6666666666666666,
              "#ed7953"
             ],
             [
              0.7777777777777778,
              "#fb9f3a"
             ],
             [
              0.8888888888888888,
              "#fdca26"
             ],
             [
              1.0,
              "#f0f921"
             ]
            ]
           }
          ],
          "choropleth": [
           {
            "type": "choropleth",
            "colorbar": {
             "outlinewidth": 0,
             "ticks": ""
            }
           }
          ],
          "histogram2d": [
           {
            "type": "histogram2d",
            "colorbar": {
             "outlinewidth": 0,
             "ticks": ""
            },
            "colorscale": [
             [
              0.0,
              "#0d0887"
             ],
             [
              0.1111111111111111,
              "#46039f"
             ],
             [
              0.2222222222222222,
              "#7201a8"
             ],
             [
              0.3333333333333333,
              "#9c179e"
             ],
             [
              0.4444444444444444,
              "#bd3786"
             ],
             [
              0.5555555555555556,
              "#d8576b"
             ],
             [
              0.6666666666666666,
              "#ed7953"
             ],
             [
              0.7777777777777778,
              "#fb9f3a"
             ],
             [
              0.8888888888888888,
              "#fdca26"
             ],
             [
              1.0,
              "#f0f921"
             ]
            ]
           }
          ],
          "heatmap": [
           {
            "type": "heatmap",
            "colorbar": {
             "outlinewidth": 0,
             "ticks": ""
            },
            "colorscale": [
             [
              0.0,
              "#0d0887"
             ],
             [
              0.1111111111111111,
              "#46039f"
             ],
             [
              0.2222222222222222,
              "#7201a8"
             ],
             [
              0.3333333333333333,
              "#9c179e"
             ],
             [
              0.4444444444444444,
              "#bd3786"
             ],
             [
              0.5555555555555556,
              "#d8576b"
             ],
             [
              0.6666666666666666,
              "#ed7953"
             ],
             [
              0.7777777777777778,
              "#fb9f3a"
             ],
             [
              0.8888888888888888,
              "#fdca26"
             ],
             [
              1.0,
              "#f0f921"
             ]
            ]
           }
          ],
          "contourcarpet": [
           {
            "type": "contourcarpet",
            "colorbar": {
             "outlinewidth": 0,
             "ticks": ""
            }
           }
          ],
          "contour": [
           {
            "type": "contour",
            "colorbar": {
             "outlinewidth": 0,
             "ticks": ""
            },
            "colorscale": [
             [
              0.0,
              "#0d0887"
             ],
             [
              0.1111111111111111,
              "#46039f"
             ],
             [
              0.2222222222222222,
              "#7201a8"
             ],
             [
              0.3333333333333333,
              "#9c179e"
             ],
             [
              0.4444444444444444,
              "#bd3786"
             ],
             [
              0.5555555555555556,
              "#d8576b"
             ],
             [
              0.6666666666666666,
              "#ed7953"
             ],
             [
              0.7777777777777778,
              "#fb9f3a"
             ],
             [
              0.8888888888888888,
              "#fdca26"
             ],
             [
              1.0,
              "#f0f921"
             ]
            ]
           }
          ],
          "surface": [
           {
            "type": "surface",
            "colorbar": {
             "outlinewidth": 0,
             "ticks": ""
            },
            "colorscale": [
             [
              0.0,
              "#0d0887"
             ],
             [
              0.1111111111111111,
              "#46039f"
             ],
             [
              0.2222222222222222,
              "#7201a8"
             ],
             [
              0.3333333333333333,
              "#9c179e"
             ],
             [
              0.4444444444444444,
              "#bd3786"
             ],
             [
              0.5555555555555556,
              "#d8576b"
             ],
             [
              0.6666666666666666,
              "#ed7953"
             ],
             [
              0.7777777777777778,
              "#fb9f3a"
             ],
             [
              0.8888888888888888,
              "#fdca26"
             ],
             [
              1.0,
              "#f0f921"
             ]
            ]
           }
          ],
          "mesh3d": [
           {
            "type": "mesh3d",
            "colorbar": {
             "outlinewidth": 0,
             "ticks": ""
            }
           }
          ],
          "scatter": [
           {
            "fillpattern": {
             "fillmode": "overlay",
             "size": 10,
             "solidity": 0.2
            },
            "type": "scatter"
           }
          ],
          "parcoords": [
           {
            "type": "parcoords",
            "line": {
             "colorbar": {
              "outlinewidth": 0,
              "ticks": ""
             }
            }
           }
          ],
          "scatterpolargl": [
           {
            "type": "scatterpolargl",
            "marker": {
             "colorbar": {
              "outlinewidth": 0,
              "ticks": ""
             }
            }
           }
          ],
          "bar": [
           {
            "error_x": {
             "color": "#2a3f5f"
            },
            "error_y": {
             "color": "#2a3f5f"
            },
            "marker": {
             "line": {
              "color": "#E5ECF6",
              "width": 0.5
             },
             "pattern": {
              "fillmode": "overlay",
              "size": 10,
              "solidity": 0.2
             }
            },
            "type": "bar"
           }
          ],
          "scattergeo": [
           {
            "type": "scattergeo",
            "marker": {
             "colorbar": {
              "outlinewidth": 0,
              "ticks": ""
             }
            }
           }
          ],
          "scatterpolar": [
           {
            "type": "scatterpolar",
            "marker": {
             "colorbar": {
              "outlinewidth": 0,
              "ticks": ""
             }
            }
           }
          ],
          "histogram": [
           {
            "marker": {
             "pattern": {
              "fillmode": "overlay",
              "size": 10,
              "solidity": 0.2
             }
            },
            "type": "histogram"
           }
          ],
          "scattergl": [
           {
            "type": "scattergl",
            "marker": {
             "colorbar": {
              "outlinewidth": 0,
              "ticks": ""
             }
            }
           }
          ],
          "scatter3d": [
           {
            "type": "scatter3d",
            "line": {
             "colorbar": {
              "outlinewidth": 0,
              "ticks": ""
             }
            },
            "marker": {
             "colorbar": {
              "outlinewidth": 0,
              "ticks": ""
             }
            }
           }
          ],
          "scattermap": [
           {
            "type": "scattermap",
            "marker": {
             "colorbar": {
              "outlinewidth": 0,
              "ticks": ""
             }
            }
           }
          ],
          "scattermapbox": [
           {
            "type": "scattermapbox",
            "marker": {
             "colorbar": {
              "outlinewidth": 0,
              "ticks": ""
             }
            }
           }
          ],
          "scatterternary": [
           {
            "type": "scatterternary",
            "marker": {
             "colorbar": {
              "outlinewidth": 0,
              "ticks": ""
             }
            }
           }
          ],
          "scattercarpet": [
           {
            "type": "scattercarpet",
            "marker": {
             "colorbar": {
              "outlinewidth": 0,
              "ticks": ""
             }
            }
           }
          ],
          "carpet": [
           {
            "aaxis": {
             "endlinecolor": "#2a3f5f",
             "gridcolor": "white",
             "linecolor": "white",
             "minorgridcolor": "white",
             "startlinecolor": "#2a3f5f"
            },
            "baxis": {
             "endlinecolor": "#2a3f5f",
             "gridcolor": "white",
             "linecolor": "white",
             "minorgridcolor": "white",
             "startlinecolor": "#2a3f5f"
            },
            "type": "carpet"
           }
          ],
          "table": [
           {
            "cells": {
             "fill": {
              "color": "#EBF0F8"
             },
             "line": {
              "color": "white"
             }
            },
            "header": {
             "fill": {
              "color": "#C8D4E3"
             },
             "line": {
              "color": "white"
             }
            },
            "type": "table"
           }
          ],
          "barpolar": [
           {
            "marker": {
             "line": {
              "color": "#E5ECF6",
              "width": 0.5
             },
             "pattern": {
              "fillmode": "overlay",
              "size": 10,
              "solidity": 0.2
             }
            },
            "type": "barpolar"
           }
          ],
          "pie": [
           {
            "automargin": true,
            "type": "pie"
           }
          ]
         },
         "layout": {
          "autotypenumbers": "strict",
          "colorway": [
           "#636efa",
           "#EF553B",
           "#00cc96",
           "#ab63fa",
           "#FFA15A",
           "#19d3f3",
           "#FF6692",
           "#B6E880",
           "#FF97FF",
           "#FECB52"
          ],
          "font": {
           "color": "#2a3f5f"
          },
          "hovermode": "closest",
          "hoverlabel": {
           "align": "left"
          },
          "paper_bgcolor": "white",
          "plot_bgcolor": "#E5ECF6",
          "polar": {
           "bgcolor": "#E5ECF6",
           "angularaxis": {
            "gridcolor": "white",
            "linecolor": "white",
            "ticks": ""
           },
           "radialaxis": {
            "gridcolor": "white",
            "linecolor": "white",
            "ticks": ""
           }
          },
          "ternary": {
           "bgcolor": "#E5ECF6",
           "aaxis": {
            "gridcolor": "white",
            "linecolor": "white",
            "ticks": ""
           },
           "baxis": {
            "gridcolor": "white",
            "linecolor": "white",
            "ticks": ""
           },
           "caxis": {
            "gridcolor": "white",
            "linecolor": "white",
            "ticks": ""
           }
          },
          "coloraxis": {
           "colorbar": {
            "outlinewidth": 0,
            "ticks": ""
           }
          },
          "colorscale": {
           "sequential": [
            [
             0.0,
             "#0d0887"
            ],
            [
             0.1111111111111111,
             "#46039f"
            ],
            [
             0.2222222222222222,
             "#7201a8"
            ],
            [
             0.3333333333333333,
             "#9c179e"
            ],
            [
             0.4444444444444444,
             "#bd3786"
            ],
            [
             0.5555555555555556,
             "#d8576b"
            ],
            [
             0.6666666666666666,
             "#ed7953"
            ],
            [
             0.7777777777777778,
             "#fb9f3a"
            ],
            [
             0.8888888888888888,
             "#fdca26"
            ],
            [
             1.0,
             "#f0f921"
            ]
           ],
           "sequentialminus": [
            [
             0.0,
             "#0d0887"
            ],
            [
             0.1111111111111111,
             "#46039f"
            ],
            [
             0.2222222222222222,
             "#7201a8"
            ],
            [
             0.3333333333333333,
             "#9c179e"
            ],
            [
             0.4444444444444444,
             "#bd3786"
            ],
            [
             0.5555555555555556,
             "#d8576b"
            ],
            [
             0.6666666666666666,
             "#ed7953"
            ],
            [
             0.7777777777777778,
             "#fb9f3a"
            ],
            [
             0.8888888888888888,
             "#fdca26"
            ],
            [
             1.0,
             "#f0f921"
            ]
           ],
           "diverging": [
            [
             0,
             "#8e0152"
            ],
            [
             0.1,
             "#c51b7d"
            ],
            [
             0.2,
             "#de77ae"
            ],
            [
             0.3,
             "#f1b6da"
            ],
            [
             0.4,
             "#fde0ef"
            ],
            [
             0.5,
             "#f7f7f7"
            ],
            [
             0.6,
             "#e6f5d0"
            ],
            [
             0.7,
             "#b8e186"
            ],
            [
             0.8,
             "#7fbc41"
            ],
            [
             0.9,
             "#4d9221"
            ],
            [
             1,
             "#276419"
            ]
           ]
          },
          "xaxis": {
           "gridcolor": "white",
           "linecolor": "white",
           "ticks": "",
           "title": {
            "standoff": 15
           },
           "zerolinecolor": "white",
           "automargin": true,
           "zerolinewidth": 2
          },
          "yaxis": {
           "gridcolor": "white",
           "linecolor": "white",
           "ticks": "",
           "title": {
            "standoff": 15
           },
           "zerolinecolor": "white",
           "automargin": true,
           "zerolinewidth": 2
          },
          "scene": {
           "xaxis": {
            "backgroundcolor": "#E5ECF6",
            "gridcolor": "white",
            "linecolor": "white",
            "showbackground": true,
            "ticks": "",
            "zerolinecolor": "white",
            "gridwidth": 2
           },
           "yaxis": {
            "backgroundcolor": "#E5ECF6",
            "gridcolor": "white",
            "linecolor": "white",
            "showbackground": true,
            "ticks": "",
            "zerolinecolor": "white",
            "gridwidth": 2
           },
           "zaxis": {
            "backgroundcolor": "#E5ECF6",
            "gridcolor": "white",
            "linecolor": "white",
            "showbackground": true,
            "ticks": "",
            "zerolinecolor": "white",
            "gridwidth": 2
           }
          },
          "shapedefaults": {
           "line": {
            "color": "#2a3f5f"
           }
          },
          "annotationdefaults": {
           "arrowcolor": "#2a3f5f",
           "arrowhead": 0,
           "arrowwidth": 1
          },
          "geo": {
           "bgcolor": "white",
           "landcolor": "#E5ECF6",
           "subunitcolor": "white",
           "showland": true,
           "showlakes": true,
           "lakecolor": "white"
          },
          "title": {
           "x": 0.05
          },
          "mapbox": {
           "style": "light"
          }
         }
        },
        "margin": {
         "l": 0,
         "r": 0,
         "t": 6,
         "b": 0
        },
        "scene": {
         "xaxis": {
          "visible": false
         },
         "yaxis": {
          "visible": false
         },
         "zaxis": {
          "visible": false
         },
         "aspectmode": "data"
        },
        "title": {},
        "width": 640,
        "height": 420,
        "paper_bgcolor": "white",
        "plot_bgcolor": "white",
        "showlegend": true
       },
       "config": {
        "scrollZoom": true,
        "displaylogo": false,
        "plotlyServerURL": "https://plot.ly"
       }
      }
     },
     "metadata": {},
     "output_type": "display_data",
     "jetTransient": {
      "display_id": null
     }
    },
    {
     "data": {
      "application/vnd.plotly.v1+json": {
       "data": [
        {
         "color": "#e6b43c",
         "flatshading": true,
         "hoverinfo": "skip",
         "i": [
          3,
          1,
          5,
          2,
          0,
          7,
          9,
          4,
          11,
          8,
          6,
          10
         ],
         "j": [
          0,
          2,
          3,
          4,
          6,
          1,
          5,
          8,
          9,
          10,
          11,
          7
         ],
         "k": [
          1,
          3,
          2,
          5,
          7,
          0,
          4,
          9,
          8,
          11,
          10,
          6
         ],
         "lighting": {
          "ambient": 0.6,
          "diffuse": 0.4
         },
         "name": "exterior_wall",
         "opacity": 1.0,
         "showlegend": true,
         "x": [
          0.0,
          0.0,
          20.0,
          20.0,
          20.0,
          20.0,
          0.0,
          0.0,
          20.0,
          20.0,
          0.0,
          0.0
         ],
         "y": [
          0.0,
          0.0,
          0.0,
          0.0,
          10.0,
          10.0,
          10.0,
          10.0,
          20.0,
          20.0,
          20.0,
          20.0
         ],
         "z": [
          3.0,
          0.0,
          0.0,
          3.0,
          0.0,
          3.0,
          3.0,
          0.0,
          0.0,
          3.0,
          0.0,
          3.0
         ],
         "type": "mesh3d"
        },
        {
         "color": "#e6d796",
         "flatshading": true,
         "hoverinfo": "skip",
         "i": [
          3,
          1,
          0,
          2
         ],
         "j": [
          0,
          2,
          3,
          1
         ],
         "k": [
          1,
          3,
          2,
          0
         ],
         "lighting": {
          "ambient": 0.6,
          "diffuse": 0.4
         },
         "name": "interior_wall",
         "opacity": 1.0,
         "showlegend": true,
         "x": [
          20.0,
          20.0,
          0.0,
          0.0
         ],
         "y": [
          10.0,
          10.0,
          10.0,
          10.0
         ],
         "z": [
          3.0,
          0.0,
          0.0,
          3.0
         ],
         "type": "mesh3d"
        },
        {
         "color": "#40b4ff",
         "flatshading": true,
         "hoverinfo": "skip",
         "i": [
          6,
          2,
          1,
          1,
          0,
          0,
          2,
          2,
          4,
          4,
          6,
          6,
          14,
          10,
          9,
          9,
          8,
          8,
          10,
          10,
          12,
          12,
          14,
          14
         ],
         "j": [
          0,
          4,
          5,
          7,
          2,
          3,
          4,
          5,
          6,
          7,
          0,
          1,
          8,
          12,
          13,
          15,
          10,
          11,
          12,
          13,
          14,
          15,
          8,
          9
         ],
         "k": [
          2,
          6,
          3,
          5,
          3,
          1,
          5,
          3,
          7,
          5,
          1,
          7,
          10,
          14,
          11,
          13,
          11,
          9,
          13,
          11,
          15,
          13,
          9,
          15
         ],
         "lighting": {
          "ambient": 0.6,
          "diffuse": 0.4
         },
         "name": "aperture",
         "opacity": 1.0,
         "showlegend": true,
         "x": [
          20.02,
          19.98,
          20.02,
          19.98,
          20.02,
          19.98,
          20.02,
          19.98,
          -0.02,
          0.02,
          -0.02,
          0.02,
          -0.02,
          0.02,
          -0.02,
          0.02
         ],
         "y": [
          2.261387,
          2.261387,
          2.261387,
          2.261387,
          7.738613,
          7.738613,
          7.738613,
          7.738613,
          17.738613,
          17.738613,
          17.738613,
          17.738613,
          12.261387,
          12.261387,
          12.261387,
          12.261387
         ],
         "z": [
          2.321584,
          2.321584,
          0.678416,
          0.678416,
          0.678416,
          0.678416,
          2.321584,
          2.321584,
          2.321584,
          2.321584,
          0.678416,
          0.678416,
          0.678416,
          0.678416,
          2.321584,
          2.321584
         ],
         "type": "mesh3d"
        },
        {
         "hoverinfo": "skip",
         "line": {
          "color": "black",
          "width": 2
         },
         "mode": "lines",
         "name": "wireframe",
         "showlegend": true,
         "x": [
          0.0,
          0.0,
          null,
          0.0,
          20.0,
          null,
          20.0,
          20.0,
          null,
          20.0,
          0.0,
          null,
          20.0,
          20.0,
          null,
          20.0,
          20.0,
          null,
          20.0,
          20.0,
          null,
          20.0,
          20.0,
          null,
          20.0,
          20.0,
          null,
          20.0,
          0.0,
          null,
          0.0,
          0.0,
          null,
          0.0,
          20.0,
          null,
          0.0,
          0.0,
          null,
          0.0,
          0.0,
          null,
          0.0,
          0.0,
          null,
          0.0,
          0.0,
          null,
          0.0,
          0.0,
          null,
          0.0,
          20.0,
          null,
          20.0,
          20.0,
          null,
          20.0,
          0.0,
          null,
          20.0,
          20.0,
          null,
          20.0,
          20.0,
          null,
          20.0,
          20.0,
          null,
          20.0,
          20.0,
          null,
          20.0,
          20.0,
          null,
          20.0,
          0.0,
          null,
          0.0,
          0.0,
          null,
          0.0,
          20.0,
          null,
          0.0,
          0.0,
          null,
          0.0,
          0.0,
          null,
          0.0,
          0.0,
          null,
          0.0,
          0.0,
          null
         ],
         "y": [
          0.0,
          0.0,
          null,
          0.0,
          0.0,
          null,
          0.0,
          0.0,
          null,
          0.0,
          0.0,
          null,
          0.0,
          0.0,
          null,
          0.0,
          10.0,
          null,
          10.0,
          10.0,
          null,
          10.0,
          0.0,
          null,
          10.0,
          10.0,
          null,
          10.0,
          10.0,
          null,
          10.0,
          10.0,
          null,
          10.0,
          10.0,
          null,
          10.0,
          10.0,
          null,
          10.0,
          0.0,
          null,
          0.0,
          0.0,
          null,
          0.0,
          10.0,
          null,
          10.0,
          10.0,
          null,
          10.0,
          10.0,
          null,
          10.0,
          10.0,
          null,
          10.0,
          10.0,
          null,
          10.0,
          10.0,
          null,
          10.0,
          20.0,
          null,
          20.0,
          20.0,
          null,
          20.0,
          10.0,
          null,
          20.0,
          20.0,
          null,
          20.0,
          20.0,
          null,
          20.0,
          20.0,
          null,
          20.0,
          20.0,
          null,
          20.0,
          20.0,
          null,
          20.0,
          10.0,
          null,
          10.0,
          10.0,
          null,
          10.0,
          20.0,
          null
         ],
         "z": [
          3.0,
          0.0,
          null,
          0.0,
          0.0,
          null,
          0.0,
          3.0,
          null,
          3.0,
          3.0,
          null,
          3.0,
          0.0,
          null,
          0.0,
          0.0,
          null,
          0.0,
          3.0,
          null,
          3.0,
          3.0,
          null,
          3.0,
          0.0,
          null,
          0.0,
          0.0,
          null,
          0.0,
          3.0,
          null,
          3.0,
          3.0,
          null,
          3.0,
          0.0,
          null,
          0.0,
          0.0,
          null,
          0.0,
          3.0,
          null,
          3.0,
          3.0,
          null,
          3.0,
          0.0,
          null,
          0.0,
          0.0,
          null,
          0.0,
          3.0,
          null,
          3.0,
          3.0,
          null,
          3.0,
          0.0,
          null,
          0.0,
          0.0,
          null,
          0.0,
          3.0,
          null,
          3.0,
          3.0,
          null,
          3.0,
          0.0,
          null,
          0.0,
          0.0,
          null,
          0.0,
          3.0,
          null,
          3.0,
          3.0,
          null,
          3.0,
          0.0,
          null,
          0.0,
          0.0,
          null,
          0.0,
          3.0,
          null,
          3.0,
          3.0,
          null
         ],
         "type": "scatter3d"
        }
       ],
       "layout": {
        "template": {
         "data": {
          "histogram2dcontour": [
           {
            "type": "histogram2dcontour",
            "colorbar": {
             "outlinewidth": 0,
             "ticks": ""
            },
            "colorscale": [
             [
              0.0,
              "#0d0887"
             ],
             [
              0.1111111111111111,
              "#46039f"
             ],
             [
              0.2222222222222222,
              "#7201a8"
             ],
             [
              0.3333333333333333,
              "#9c179e"
             ],
             [
              0.4444444444444444,
              "#bd3786"
             ],
             [
              0.5555555555555556,
              "#d8576b"
             ],
             [
              0.6666666666666666,
              "#ed7953"
             ],
             [
              0.7777777777777778,
              "#fb9f3a"
             ],
             [
              0.8888888888888888,
              "#fdca26"
             ],
             [
              1.0,
              "#f0f921"
             ]
            ]
           }
          ],
          "choropleth": [
           {
            "type": "choropleth",
            "colorbar": {
             "outlinewidth": 0,
             "ticks": ""
            }
           }
          ],
          "histogram2d": [
           {
            "type": "histogram2d",
            "colorbar": {
             "outlinewidth": 0,
             "ticks": ""
            },
            "colorscale": [
             [
              0.0,
              "#0d0887"
             ],
             [
              0.1111111111111111,
              "#46039f"
             ],
             [
              0.2222222222222222,
              "#7201a8"
             ],
             [
              0.3333333333333333,
              "#9c179e"
             ],
             [
              0.4444444444444444,
              "#bd3786"
             ],
             [
              0.5555555555555556,
              "#d8576b"
             ],
             [
              0.6666666666666666,
              "#ed7953"
             ],
             [
              0.7777777777777778,
              "#fb9f3a"
             ],
             [
              0.8888888888888888,
              "#fdca26"
             ],
             [
              1.0,
              "#f0f921"
             ]
            ]
           }
          ],
          "heatmap": [
           {
            "type": "heatmap",
            "colorbar": {
             "outlinewidth": 0,
             "ticks": ""
            },
            "colorscale": [
             [
              0.0,
              "#0d0887"
             ],
             [
              0.1111111111111111,
              "#46039f"
             ],
             [
              0.2222222222222222,
              "#7201a8"
             ],
             [
              0.3333333333333333,
              "#9c179e"
             ],
             [
              0.4444444444444444,
              "#bd3786"
             ],
             [
              0.5555555555555556,
              "#d8576b"
             ],
             [
              0.6666666666666666,
              "#ed7953"
             ],
             [
              0.7777777777777778,
              "#fb9f3a"
             ],
             [
              0.8888888888888888,
              "#fdca26"
             ],
             [
              1.0,
              "#f0f921"
             ]
            ]
           }
          ],
          "contourcarpet": [
           {
            "type": "contourcarpet",
            "colorbar": {
             "outlinewidth": 0,
             "ticks": ""
            }
           }
          ],
          "contour": [
           {
            "type": "contour",
            "colorbar": {
             "outlinewidth": 0,
             "ticks": ""
            },
            "colorscale": [
             [
              0.0,
              "#0d0887"
             ],
             [
              0.1111111111111111,
              "#46039f"
             ],
             [
              0.2222222222222222,
              "#7201a8"
             ],
             [
              0.3333333333333333,
              "#9c179e"
             ],
             [
              0.4444444444444444,
              "#bd3786"
             ],
             [
              0.5555555555555556,
              "#d8576b"
             ],
             [
              0.6666666666666666,
              "#ed7953"
             ],
             [
              0.7777777777777778,
              "#fb9f3a"
             ],
             [
              0.8888888888888888,
              "#fdca26"
             ],
             [
              1.0,
              "#f0f921"
             ]
            ]
           }
          ],
          "surface": [
           {
            "type": "surface",
            "colorbar": {
             "outlinewidth": 0,
             "ticks": ""
            },
            "colorscale": [
             [
              0.0,
              "#0d0887"
             ],
             [
              0.1111111111111111,
              "#46039f"
             ],
             [
              0.2222222222222222,
              "#7201a8"
             ],
             [
              0.3333333333333333,
              "#9c179e"
             ],
             [
              0.4444444444444444,
              "#bd3786"
             ],
             [
              0.5555555555555556,
              "#d8576b"
             ],
             [
              0.6666666666666666,
              "#ed7953"
             ],
             [
              0.7777777777777778,
              "#fb9f3a"
             ],
             [
              0.8888888888888888,
              "#fdca26"
             ],
             [
              1.0,
              "#f0f921"
             ]
            ]
           }
          ],
          "mesh3d": [
           {
            "type": "mesh3d",
            "colorbar": {
             "outlinewidth": 0,
             "ticks": ""
            }
           }
          ],
          "scatter": [
           {
            "fillpattern": {
             "fillmode": "overlay",
             "size": 10,
             "solidity": 0.2
            },
            "type": "scatter"
           }
          ],
          "parcoords": [
           {
            "type": "parcoords",
            "line": {
             "colorbar": {
              "outlinewidth": 0,
              "ticks": ""
             }
            }
           }
          ],
          "scatterpolargl": [
           {
            "type": "scatterpolargl",
            "marker": {
             "colorbar": {
              "outlinewidth": 0,
              "ticks": ""
             }
            }
           }
          ],
          "bar": [
           {
            "error_x": {
             "color": "#2a3f5f"
            },
            "error_y": {
             "color": "#2a3f5f"
            },
            "marker": {
             "line": {
              "color": "#E5ECF6",
              "width": 0.5
             },
             "pattern": {
              "fillmode": "overlay",
              "size": 10,
              "solidity": 0.2
             }
            },
            "type": "bar"
           }
          ],
          "scattergeo": [
           {
            "type": "scattergeo",
            "marker": {
             "colorbar": {
              "outlinewidth": 0,
              "ticks": ""
             }
            }
           }
          ],
          "scatterpolar": [
           {
            "type": "scatterpolar",
            "marker": {
             "colorbar": {
              "outlinewidth": 0,
              "ticks": ""
             }
            }
           }
          ],
          "histogram": [
           {
            "marker": {
             "pattern": {
              "fillmode": "overlay",
              "size": 10,
              "solidity": 0.2
             }
            },
            "type": "histogram"
           }
          ],
          "scattergl": [
           {
            "type": "scattergl",
            "marker": {
             "colorbar": {
              "outlinewidth": 0,
              "ticks": ""
             }
            }
           }
          ],
          "scatter3d": [
           {
            "type": "scatter3d",
            "line": {
             "colorbar": {
              "outlinewidth": 0,
              "ticks": ""
             }
            },
            "marker": {
             "colorbar": {
              "outlinewidth": 0,
              "ticks": ""
             }
            }
           }
          ],
          "scattermap": [
           {
            "type": "scattermap",
            "marker": {
             "colorbar": {
              "outlinewidth": 0,
              "ticks": ""
             }
            }
           }
          ],
          "scattermapbox": [
           {
            "type": "scattermapbox",
            "marker": {
             "colorbar": {
              "outlinewidth": 0,
              "ticks": ""
             }
            }
           }
          ],
          "scatterternary": [
           {
            "type": "scatterternary",
            "marker": {
             "colorbar": {
              "outlinewidth": 0,
              "ticks": ""
             }
            }
           }
          ],
          "scattercarpet": [
           {
            "type": "scattercarpet",
            "marker": {
             "colorbar": {
              "outlinewidth": 0,
              "ticks": ""
             }
            }
           }
          ],
          "carpet": [
           {
            "aaxis": {
             "endlinecolor": "#2a3f5f",
             "gridcolor": "white",
             "linecolor": "white",
             "minorgridcolor": "white",
             "startlinecolor": "#2a3f5f"
            },
            "baxis": {
             "endlinecolor": "#2a3f5f",
             "gridcolor": "white",
             "linecolor": "white",
             "minorgridcolor": "white",
             "startlinecolor": "#2a3f5f"
            },
            "type": "carpet"
           }
          ],
          "table": [
           {
            "cells": {
             "fill": {
              "color": "#EBF0F8"
             },
             "line": {
              "color": "white"
             }
            },
            "header": {
             "fill": {
              "color": "#C8D4E3"
             },
             "line": {
              "color": "white"
             }
            },
            "type": "table"
           }
          ],
          "barpolar": [
           {
            "marker": {
             "line": {
              "color": "#E5ECF6",
              "width": 0.5
             },
             "pattern": {
              "fillmode": "overlay",
              "size": 10,
              "solidity": 0.2
             }
            },
            "type": "barpolar"
           }
          ],
          "pie": [
           {
            "automargin": true,
            "type": "pie"
           }
          ]
         },
         "layout": {
          "autotypenumbers": "strict",
          "colorway": [
           "#636efa",
           "#EF553B",
           "#00cc96",
           "#ab63fa",
           "#FFA15A",
           "#19d3f3",
           "#FF6692",
           "#B6E880",
           "#FF97FF",
           "#FECB52"
          ],
          "font": {
           "color": "#2a3f5f"
          },
          "hovermode": "closest",
          "hoverlabel": {
           "align": "left"
          },
          "paper_bgcolor": "white",
          "plot_bgcolor": "#E5ECF6",
          "polar": {
           "bgcolor": "#E5ECF6",
           "angularaxis": {
            "gridcolor": "white",
            "linecolor": "white",
            "ticks": ""
           },
           "radialaxis": {
            "gridcolor": "white",
            "linecolor": "white",
            "ticks": ""
           }
          },
          "ternary": {
           "bgcolor": "#E5ECF6",
           "aaxis": {
            "gridcolor": "white",
            "linecolor": "white",
            "ticks": ""
           },
           "baxis": {
            "gridcolor": "white",
            "linecolor": "white",
            "ticks": ""
           },
           "caxis": {
            "gridcolor": "white",
            "linecolor": "white",
            "ticks": ""
           }
          },
          "coloraxis": {
           "colorbar": {
            "outlinewidth": 0,
            "ticks": ""
           }
          },
          "colorscale": {
           "sequential": [
            [
             0.0,
             "#0d0887"
            ],
            [
             0.1111111111111111,
             "#46039f"
            ],
            [
             0.2222222222222222,
             "#7201a8"
            ],
            [
             0.3333333333333333,
             "#9c179e"
            ],
            [
             0.4444444444444444,
             "#bd3786"
            ],
            [
             0.5555555555555556,
             "#d8576b"
            ],
            [
             0.6666666666666666,
             "#ed7953"
            ],
            [
             0.7777777777777778,
             "#fb9f3a"
            ],
            [
             0.8888888888888888,
             "#fdca26"
            ],
            [
             1.0,
             "#f0f921"
            ]
           ],
           "sequentialminus": [
            [
             0.0,
             "#0d0887"
            ],
            [
             0.1111111111111111,
             "#46039f"
            ],
            [
             0.2222222222222222,
             "#7201a8"
            ],
            [
             0.3333333333333333,
             "#9c179e"
            ],
            [
             0.4444444444444444,
             "#bd3786"
            ],
            [
             0.5555555555555556,
             "#d8576b"
            ],
            [
             0.6666666666666666,
             "#ed7953"
            ],
            [
             0.7777777777777778,
             "#fb9f3a"
            ],
            [
             0.8888888888888888,
             "#fdca26"
            ],
            [
             1.0,
             "#f0f921"
            ]
           ],
           "diverging": [
            [
             0,
             "#8e0152"
            ],
            [
             0.1,
             "#c51b7d"
            ],
            [
             0.2,
             "#de77ae"
            ],
            [
             0.3,
             "#f1b6da"
            ],
            [
             0.4,
             "#fde0ef"
            ],
            [
             0.5,
             "#f7f7f7"
            ],
            [
             0.6,
             "#e6f5d0"
            ],
            [
             0.7,
             "#b8e186"
            ],
            [
             0.8,
             "#7fbc41"
            ],
            [
             0.9,
             "#4d9221"
            ],
            [
             1,
             "#276419"
            ]
           ]
          },
          "xaxis": {
           "gridcolor": "white",
           "linecolor": "white",
           "ticks": "",
           "title": {
            "standoff": 15
           },
           "zerolinecolor": "white",
           "automargin": true,
           "zerolinewidth": 2
          },
          "yaxis": {
           "gridcolor": "white",
           "linecolor": "white",
           "ticks": "",
           "title": {
            "standoff": 15
           },
           "zerolinecolor": "white",
           "automargin": true,
           "zerolinewidth": 2
          },
          "scene": {
           "xaxis": {
            "backgroundcolor": "#E5ECF6",
            "gridcolor": "white",
            "linecolor": "white",
            "showbackground": true,
            "ticks": "",
            "zerolinecolor": "white",
            "gridwidth": 2
           },
           "yaxis": {
            "backgroundcolor": "#E5ECF6",
            "gridcolor": "white",
            "linecolor": "white",
            "showbackground": true,
            "ticks": "",
            "zerolinecolor": "white",
            "gridwidth": 2
           },
           "zaxis": {
            "backgroundcolor": "#E5ECF6",
            "gridcolor": "white",
            "linecolor": "white",
            "showbackground": true,
            "ticks": "",
            "zerolinecolor": "white",
            "gridwidth": 2
           }
          },
          "shapedefaults": {
           "line": {
            "color": "#2a3f5f"
           }
          },
          "annotationdefaults": {
           "arrowcolor": "#2a3f5f",
           "arrowhead": 0,
           "arrowwidth": 1
          },
          "geo": {
           "bgcolor": "white",
           "landcolor": "#E5ECF6",
           "subunitcolor": "white",
           "showland": true,
           "showlakes": true,
           "lakecolor": "white"
          },
          "title": {
           "x": 0.05
          },
          "mapbox": {
           "style": "light"
          }
         }
        },
        "margin": {
         "l": 0,
         "r": 0,
         "t": 6,
         "b": 0
        },
        "scene": {
         "xaxis": {
          "visible": false
         },
         "yaxis": {
          "visible": false
         },
         "zaxis": {
          "visible": false
         },
         "aspectmode": "data"
        },
        "title": {},
        "width": 640,
        "height": 420,
        "paper_bgcolor": "white",
        "plot_bgcolor": "white",
        "showlegend": true
       },
       "config": {
        "scrollZoom": true,
        "displaylogo": false,
        "plotlyServerURL": "https://plot.ly"
       }
      }
     },
     "metadata": {},
     "output_type": "display_data",
     "jetTransient": {
      "display_id": null
     }
    }
   ],
   "execution_count": 3
  },
  {
   "metadata": {},
   "cell_type": "markdown",
   "source": "## plot_honeybee_models",
   "id": "32278815fe7e3668"
  },
  {
   "metadata": {},
   "cell_type": "markdown",
   "source": [
    "### Plot multiple Honeybee models in a grid\n",
    "\n",
    "This cell uses the `plot_honeybee_models` function to visualize multiple Honeybee models in a single static 3D scene. It provides an overview of several sample geometries fast at once, allowing for comparative inspection of their spatial configurations."
   ],
   "id": "cf221b7f4c2bb284"
  },
  {
   "metadata": {
    "ExecuteTime": {
     "end_time": "2025-10-30T16:16:30.290274Z",
     "start_time": "2025-10-30T16:16:29.335166Z"
    }
   },
   "cell_type": "code",
   "source": [
    "from plot_honeybee_models import plot_honeybee_models\n",
    "\n",
    "plot_honeybee_models(sample_models, main_title=\"HB Models\")"
   ],
   "id": "9f42fe255905d761",
   "outputs": [
    {
     "data": {
      "text/plain": [
       "<PIL.Image.Image image mode=RGBA size=1200x537>"
      ],
      "image/png": "[encoded data removed]"
     },
     "metadata": {},
     "output_type": "display_data",
     "jetTransient": {
      "display_id": null
     }
    }
   ],
   "execution_count": 9
  },
  {
   "metadata": {},
   "cell_type": "markdown",
   "source": [
    "### Plot all Honeybee models in a wireframe grid layout\n",
    "\n",
    "This cell visualizes all fetched Honeybee models simultaneously using the `plot_honeybee_models` function with a grid-based layout and wireframe styling. The setup provides a compact overview of multiple models with consistent camera settings and a clean white background.\n",
    "\n",
    "**Inputs**\n",
    "\n",
    "* `models=sample_models`: list of Honeybee models loaded from the Honeybee-schema repository\n",
    "* Visualization parameters:\n",
    "\n",
    "  * `main_title=\"Wireframe HB Models\"`: sets a global title for the composite figure\n",
    "  * `grid=(5,2)`: arranges plots in a 5×2 grid (automatically adjusted if needed)\n",
    "  * `figsize=(640, 420)`: defines the size of each subplot in pixels\n",
    "  * `total_width=1200`: overall plot width for layout scaling\n",
    "  * `base_model_height=600`: reference model height for consistent scene proportions\n",
    "  * `plot_main_legend=False`: hides the global legend to maintain a clean layout\n",
    "  * `camera_zoom=1.3`: adjusts the initial camera distance for better framing\n",
    "  * `surface_opacity=0`: hides solid faces to emphasize edges only\n",
    "  * `show_wireframe=True`: displays structural wireframes for clarity\n",
    "  * `background_color=\"white\"`: ensures high-contrast visualization\n",
    "  * `aspectmode=\"data\"`: keeps consistent aspect ratios across all subplots\n",
    "\n",
    "For more options see the python file `plot_honeybee_models.py` in the same directory.\n"
   ],
   "id": "9766621b016b6223"
  },
  {
   "metadata": {
    "ExecuteTime": {
     "end_time": "2025-10-30T15:52:37.921099Z",
     "start_time": "2025-10-30T15:52:36.085931Z"
    }
   },
   "cell_type": "code",
   "source": [
    "plot_honeybee_models(\n",
    "    models=sample_models,\n",
    "    main_title=\"Wireframe HB Models\",\n",
    "    grid=(5,4),\n",
    "    total_width=1200,\n",
    "    base_model_height=600,\n",
    "    plot_main_legend=False,\n",
    "    camera_zoom=1.3,\n",
    "    surface_opacity=0,\n",
    "    show_wireframe=True,\n",
    "    background_color=\"white\",\n",
    "    aspectmode=\"data\",\n",
    ")"
   ],
   "id": "f5aed436ef24328a",
   "outputs": [
    {
     "data": {
      "text/plain": [
       "<PIL.Image.Image image mode=RGBA size=1200x1000>"
      ],
      "image/png": "[encoded data removed]"
     },
     "metadata": {},
     "output_type": "display_data",
     "jetTransient": {
      "display_id": null
     }
    }
   ],
   "execution_count": 5
  },
  {
   "metadata": {},
   "cell_type": "markdown",
   "source": [
    "## Exporting plots\n",
    "\n",
    "### Export single Honeybee model to interactive HTML\n",
    "\n",
    "This cell exports a single Honeybee model visualization as an interactive HTML file. The figure is first generated using `plot_honeybee_model()` with wireframe and legend enabled, then written to disk for standalone viewing.\n"
   ],
   "id": "cfc1207b19073e75"
  },
  {
   "metadata": {
    "ExecuteTime": {
     "end_time": "2025-10-30T15:52:37.967214Z",
     "start_time": "2025-10-30T15:52:37.938161Z"
    }
   },
   "cell_type": "code",
   "source": [
    "fig = plot_honeybee_model(example_model, show_wireframe=True, show_legend=True, show=False)\n",
    "fig.write_html(\"example_model.html\")\n",
    "print(f\"Wrote example_model.html\")"
   ],
   "id": "85bc3d781c5e8db3",
   "outputs": [
    {
     "name": "stdout",
     "output_type": "stream",
     "text": [
      "Wrote example_model.html\n"
     ]
    }
   ],
   "execution_count": 6
  },
  {
   "metadata": {},
   "cell_type": "markdown",
   "source": [
    "### Export multiple Honeybee models to static image\n",
    "\n",
    "This cell saves a composite visualization of several Honeybee models as a static PNG image. The layout and rendering are managed by `plot_honeybee_models()`, allowing easy sharing of a scene overview."
   ],
   "id": "584d292602472c39"
  },
  {
   "metadata": {
    "ExecuteTime": {
     "end_time": "2025-10-30T16:17:09.148380Z",
     "start_time": "2025-10-30T16:17:08.190898Z"
    }
   },
   "cell_type": "code",
   "source": [
    "img = plot_honeybee_models(sample_models, main_title=\"HB Models\", show=False)\n",
    "img.save(\"hbmodels.png\")\n",
    "print(f\"Saved hbmodels.png\")"
   ],
   "id": "ac225fe82215abc7",
   "outputs": [
    {
     "name": "stderr",
     "output_type": "stream",
     "text": [
      "Context leak detected, msgtracer returned -1\n"
     ]
    },
    {
     "name": "stdout",
     "output_type": "stream",
     "text": [
      "Saved hbmodels.png\n"
     ]
    }
   ],
   "execution_count": 10
  },
  {
   "metadata": {
    "ExecuteTime": {
     "end_time": "2025-10-30T15:52:39.021520Z",
     "start_time": "2025-10-30T15:52:39.020173Z"
    }
   },
   "cell_type": "code",
   "source": "",
   "id": "e2943477d70d9d44",
   "outputs": [],
   "execution_count": null
  }
 ],
 "metadata": {
  "kernelspec": {
   "display_name": "Python 3",
   "language": "python",
   "name": "python3"
  },
  "language_info": {
   "codemirror_mode": {
    "name": "ipython",
    "version": 2
   },
   "file_extension": ".py",
   "mimetype": "text/x-python",
   "name": "python",
   "nbconvert_exporter": "python",
   "pygments_lexer": "ipython2",
   "version": "2.7.6"
  }
 },
 "nbformat": 4,
 "nbformat_minor": 5
}
